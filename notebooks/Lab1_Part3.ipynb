{
 "cells": [
  {
   "cell_type": "code",
   "execution_count": 3,
   "metadata": {
    "collapsed": false
   },
   "outputs": [
    {
     "name": "stdout",
     "output_type": "stream",
     "text": [
      "[1] \"Using direct authentication\"\n"
     ]
    }
   ],
   "source": [
    "library(twitteR)\n",
    "library(ggmap)\n",
    "\n",
    "#authenticating\n",
    "CONSUMER_KEY = \"LhS2LVBbmbvJXwFRvoNZ2fuBP\"\n",
    "CONSUMER_SECRET = \"0Ym9QH3sDRXlVDTgxyNafMEKhaJGAZECscaPTePRZNWoaeppdB\"\n",
    "ACCESS_TOKEN = \"829481304706146305-8pCQl9Zbm6NdPeWulXTjyPmNvwJZyg9\"\n",
    "ACCESS_TOKEN_SECRET = \"I5w2fGH0wHN3UhdMShDiU7BzcpePVFMVS20LhAH4ZuzoC\"\n",
    "\n",
    "setup_twitter_oauth(CONSUMER_KEY,\n",
    "                    CONSUMER_SECRET,\n",
    "                    ACCESS_TOKEN,\n",
    "                    ACCESS_TOKEN_SECRET)"
   ]
  },
  {
   "cell_type": "code",
   "execution_count": 4,
   "metadata": {
    "collapsed": false
   },
   "outputs": [
    {
     "name": "stderr",
     "output_type": "stream",
     "text": [
      "Information from URL : http://maps.googleapis.com/maps/api/geocode/json?address=New%20York&sensor=false\n"
     ]
    }
   ],
   "source": [
    "#getting coordinates from googlemap base on location name\n",
    "userlocation <- geocode(\"New York\")"
   ]
  },
  {
   "cell_type": "code",
   "execution_count": 5,
   "metadata": {
    "collapsed": true
   },
   "outputs": [],
   "source": [
    "#searching for id for the location of trends closes to coordinates\n",
    "trendclosebyloc <- closestTrendLocations(userlocation$lat, userlocation$lon)"
   ]
  },
  {
   "cell_type": "code",
   "execution_count": 6,
   "metadata": {
    "collapsed": true
   },
   "outputs": [],
   "source": [
    "#getting trends by woeid to get trends\n",
    "trendscloseby <- getTrends(trendclosebyloc$woeid)"
   ]
  },
  {
   "cell_type": "code",
   "execution_count": 7,
   "metadata": {
    "collapsed": true
   },
   "outputs": [],
   "source": [
    "#getting the top 10 trends from the data\n",
    "rtrendscloseby <- trendscloseby[1:10,]"
   ]
  },
  {
   "cell_type": "code",
   "execution_count": 8,
   "metadata": {
    "collapsed": false
   },
   "outputs": [
    {
     "name": "stdout",
     "output_type": "stream",
     "text": [
      "[1] \"These are the top 10 trending tweets: \"\n",
      " [1] \"#DunkContest\"      \"#BritneyEverAfter\" \"Kylie Lip Kits\"   \n",
      " [4] \"DJ Khaled\"         \"Derrick Jones\"     \"Steph\"            \n",
      " [7] \"#BronerGranados\"   \"DeAndre Jordan\"    \"Zach Lavine\"      \n",
      "[10] \"#TrumpRally\"      \n"
     ]
    }
   ],
   "source": [
    "#printing\n",
    "print(\"These are the top 10 trending tweets: \")\n",
    "print(rtrendscloseby$name)"
   ]
  },
  {
   "cell_type": "code",
   "execution_count": null,
   "metadata": {
    "collapsed": true
   },
   "outputs": [],
   "source": []
  }
 ],
 "metadata": {
  "kernelspec": {
   "display_name": "R",
   "language": "R",
   "name": "ir"
  },
  "language_info": {
   "codemirror_mode": "r",
   "file_extension": ".r",
   "mimetype": "text/x-r-source",
   "name": "R",
   "pygments_lexer": "r",
   "version": "3.3.2"
  }
 },
 "nbformat": 4,
 "nbformat_minor": 2
}
